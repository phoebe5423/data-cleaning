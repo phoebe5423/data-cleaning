{
 "cells": [
  {
   "cell_type": "code",
   "execution_count": 1,
   "metadata": {},
   "outputs": [],
   "source": [
    "import pandas as pd\n",
    "import numpy as np\n",
    "import re\n",
    "import datetime"
   ]
  },
  {
   "cell_type": "code",
   "execution_count": 2,
   "metadata": {},
   "outputs": [],
   "source": [
    "startbucks3=pd.read_csv(\"startbucks_final_Phoebe.csv\")"
   ]
  },
  {
   "cell_type": "code",
   "execution_count": 3,
   "metadata": {},
   "outputs": [],
   "source": [
    "startbucks3['city']=startbucks3['city'].str.lower()"
   ]
  },
  {
   "cell_type": "code",
   "execution_count": 4,
   "metadata": {},
   "outputs": [
    {
     "data": {
      "text/plain": [
       "Index(['No.', 'storeNumber', 'countryCode', 'ownershipTypeCode', 'schedule',\n",
       "       'slug', 'latitude', 'longitude', 'streetAddressLine1',\n",
       "       'streetAddressLine2', 'streetAddressLine3', 'city',\n",
       "       'countrySubdivisionCode', 'postalCode', 'currentTimeOffset',\n",
       "       'windowsTimeZoneId', 'olsonTimeZoneId', 'GMT', 'GMT_city', 'Mon', 'Tue',\n",
       "       'Wed', 'Thu', 'Fri', 'Sat', 'Sun'],\n",
       "      dtype='object')"
      ]
     },
     "execution_count": 4,
     "metadata": {},
     "output_type": "execute_result"
    }
   ],
   "source": [
    "startbucks3.columns"
   ]
  },
  {
   "cell_type": "code",
   "execution_count": 5,
   "metadata": {},
   "outputs": [],
   "source": [
    "startbucks3=startbucks3.drop(['slug', 'currentTimeOffset', 'schedule', 'olsonTimeZoneId'],axis=1)"
   ]
  },
  {
   "cell_type": "code",
   "execution_count": 6,
   "metadata": {},
   "outputs": [],
   "source": [
    "#startbucks3.rename(columns={'GMT_city': 'GMT_region'}, inplace=True)"
   ]
  },
  {
   "cell_type": "code",
   "execution_count": 7,
   "metadata": {},
   "outputs": [],
   "source": [
    "day_list=['Mon', 'Tue', 'Wed', 'Thu', 'Fri', 'Sat', 'Sun']"
   ]
  },
  {
   "cell_type": "code",
   "execution_count": 8,
   "metadata": {},
   "outputs": [],
   "source": [
    "for x in day_list:\n",
    "    time = startbucks3[x].str.split(' to ', expand=True)\n",
    "    openname = f'{x}_open'\n",
    "    closename = f'{x}_close'\n",
    "    startbucks3[openname]=time[0]\n",
    "    startbucks3[closename]=time[1]\n",
    "    startbucks3=startbucks3.drop([x],axis=1)"
   ]
  },
  {
   "cell_type": "code",
   "execution_count": 18,
   "metadata": {},
   "outputs": [
    {
     "data": {
      "text/html": [
       "<div>\n",
       "<style scoped>\n",
       "    .dataframe tbody tr th:only-of-type {\n",
       "        vertical-align: middle;\n",
       "    }\n",
       "\n",
       "    .dataframe tbody tr th {\n",
       "        vertical-align: top;\n",
       "    }\n",
       "\n",
       "    .dataframe thead th {\n",
       "        text-align: right;\n",
       "    }\n",
       "</style>\n",
       "<table border=\"1\" class=\"dataframe\">\n",
       "  <thead>\n",
       "    <tr style=\"text-align: right;\">\n",
       "      <th></th>\n",
       "      <th>Tue_open</th>\n",
       "      <th>Tue_close</th>\n",
       "      <th>Wed_open</th>\n",
       "      <th>Wed_close</th>\n",
       "      <th>Thu_open</th>\n",
       "      <th>Thu_close</th>\n",
       "      <th>Fri_open</th>\n",
       "      <th>Fri_close</th>\n",
       "      <th>Sat_open</th>\n",
       "      <th>Sat_close</th>\n",
       "      <th>Sun_open</th>\n",
       "      <th>Sun_close</th>\n",
       "    </tr>\n",
       "  </thead>\n",
       "  <tbody>\n",
       "    <tr>\n",
       "      <th>0</th>\n",
       "      <td>08:00</td>\n",
       "      <td>15:00</td>\n",
       "      <td>08:00</td>\n",
       "      <td>15:00</td>\n",
       "      <td>08:00</td>\n",
       "      <td>15:00</td>\n",
       "      <td>08:00</td>\n",
       "      <td>15:00</td>\n",
       "      <td>08:00</td>\n",
       "      <td>15:00</td>\n",
       "      <td>08:00</td>\n",
       "      <td>15:00</td>\n",
       "    </tr>\n",
       "    <tr>\n",
       "      <th>1</th>\n",
       "      <td>05:30</td>\n",
       "      <td>22:00</td>\n",
       "      <td>05:30</td>\n",
       "      <td>22:00</td>\n",
       "      <td>05:30</td>\n",
       "      <td>22:00</td>\n",
       "      <td>05:30</td>\n",
       "      <td>22:00</td>\n",
       "      <td>06:00</td>\n",
       "      <td>21:00</td>\n",
       "      <td>06:00</td>\n",
       "      <td>21:00</td>\n",
       "    </tr>\n",
       "    <tr>\n",
       "      <th>2</th>\n",
       "      <td>08:00</td>\n",
       "      <td>21:00</td>\n",
       "      <td>08:00</td>\n",
       "      <td>21:00</td>\n",
       "      <td>08:00</td>\n",
       "      <td>21:00</td>\n",
       "      <td>08:00</td>\n",
       "      <td>21:00</td>\n",
       "      <td>08:00</td>\n",
       "      <td>21:00</td>\n",
       "      <td>08:00</td>\n",
       "      <td>21:00</td>\n",
       "    </tr>\n",
       "    <tr>\n",
       "      <th>3</th>\n",
       "      <td>08:00</td>\n",
       "      <td>21:00</td>\n",
       "      <td>08:00</td>\n",
       "      <td>21:00</td>\n",
       "      <td>08:00</td>\n",
       "      <td>21:00</td>\n",
       "      <td>08:00</td>\n",
       "      <td>21:00</td>\n",
       "      <td>08:00</td>\n",
       "      <td>21:00</td>\n",
       "      <td>08:00</td>\n",
       "      <td>21:00</td>\n",
       "    </tr>\n",
       "    <tr>\n",
       "      <th>4</th>\n",
       "      <td>05:30</td>\n",
       "      <td>21:00</td>\n",
       "      <td>05:30</td>\n",
       "      <td>21:00</td>\n",
       "      <td>05:30</td>\n",
       "      <td>21:00</td>\n",
       "      <td>05:30</td>\n",
       "      <td>21:00</td>\n",
       "      <td>06:00</td>\n",
       "      <td>21:00</td>\n",
       "      <td>06:00</td>\n",
       "      <td>20:00</td>\n",
       "    </tr>\n",
       "    <tr>\n",
       "      <th>...</th>\n",
       "      <td>...</td>\n",
       "      <td>...</td>\n",
       "      <td>...</td>\n",
       "      <td>...</td>\n",
       "      <td>...</td>\n",
       "      <td>...</td>\n",
       "      <td>...</td>\n",
       "      <td>...</td>\n",
       "      <td>...</td>\n",
       "      <td>...</td>\n",
       "      <td>...</td>\n",
       "      <td>...</td>\n",
       "    </tr>\n",
       "    <tr>\n",
       "      <th>3789</th>\n",
       "      <td>08:00</td>\n",
       "      <td>20:00</td>\n",
       "      <td>08:00</td>\n",
       "      <td>20:00</td>\n",
       "      <td>08:00</td>\n",
       "      <td>20:00</td>\n",
       "      <td>08:00</td>\n",
       "      <td>20:00</td>\n",
       "      <td>08:00</td>\n",
       "      <td>20:00</td>\n",
       "      <td>10:30</td>\n",
       "      <td>20:00</td>\n",
       "    </tr>\n",
       "    <tr>\n",
       "      <th>3790</th>\n",
       "      <td>10:30</td>\n",
       "      <td>18:00</td>\n",
       "      <td>10:30</td>\n",
       "      <td>18:00</td>\n",
       "      <td>10:30</td>\n",
       "      <td>18:00</td>\n",
       "      <td>08:00</td>\n",
       "      <td>19:30</td>\n",
       "      <td>08:00</td>\n",
       "      <td>19:30</td>\n",
       "      <td>08:00</td>\n",
       "      <td>19:30</td>\n",
       "    </tr>\n",
       "    <tr>\n",
       "      <th>3791</th>\n",
       "      <td>10:00</td>\n",
       "      <td>19:00</td>\n",
       "      <td>10:00</td>\n",
       "      <td>19:00</td>\n",
       "      <td>10:00</td>\n",
       "      <td>19:00</td>\n",
       "      <td>10:00</td>\n",
       "      <td>19:00</td>\n",
       "      <td>10:00</td>\n",
       "      <td>19:00</td>\n",
       "      <td>Closed</td>\n",
       "      <td>Closed</td>\n",
       "    </tr>\n",
       "    <tr>\n",
       "      <th>3792</th>\n",
       "      <td>09:30</td>\n",
       "      <td>18:00</td>\n",
       "      <td>09:30</td>\n",
       "      <td>18:00</td>\n",
       "      <td>09:30</td>\n",
       "      <td>18:00</td>\n",
       "      <td>09:30</td>\n",
       "      <td>20:00</td>\n",
       "      <td>09:30</td>\n",
       "      <td>20:00</td>\n",
       "      <td>Closed</td>\n",
       "      <td>Closed</td>\n",
       "    </tr>\n",
       "    <tr>\n",
       "      <th>3793</th>\n",
       "      <td>08:00</td>\n",
       "      <td>20:00</td>\n",
       "      <td>08:00</td>\n",
       "      <td>20:00</td>\n",
       "      <td>08:00</td>\n",
       "      <td>20:00</td>\n",
       "      <td>08:00</td>\n",
       "      <td>20:00</td>\n",
       "      <td>09:00</td>\n",
       "      <td>20:00</td>\n",
       "      <td>12:00</td>\n",
       "      <td>18:00</td>\n",
       "    </tr>\n",
       "  </tbody>\n",
       "</table>\n",
       "<p>3794 rows × 12 columns</p>\n",
       "</div>"
      ],
      "text/plain": [
       "     Tue_open Tue_close Wed_open Wed_close Thu_open Thu_close Fri_open  \\\n",
       "0       08:00     15:00    08:00     15:00    08:00     15:00    08:00   \n",
       "1       05:30     22:00    05:30     22:00    05:30     22:00    05:30   \n",
       "2       08:00     21:00    08:00     21:00    08:00     21:00    08:00   \n",
       "3       08:00     21:00    08:00     21:00    08:00     21:00    08:00   \n",
       "4       05:30     21:00    05:30     21:00    05:30     21:00    05:30   \n",
       "...       ...       ...      ...       ...      ...       ...      ...   \n",
       "3789    08:00     20:00    08:00     20:00    08:00     20:00    08:00   \n",
       "3790    10:30     18:00    10:30     18:00    10:30     18:00    08:00   \n",
       "3791    10:00     19:00    10:00     19:00    10:00     19:00    10:00   \n",
       "3792    09:30     18:00    09:30     18:00    09:30     18:00    09:30   \n",
       "3793    08:00     20:00    08:00     20:00    08:00     20:00    08:00   \n",
       "\n",
       "     Fri_close Sat_open Sat_close Sun_open Sun_close  \n",
       "0        15:00    08:00     15:00    08:00     15:00  \n",
       "1        22:00    06:00     21:00    06:00     21:00  \n",
       "2        21:00    08:00     21:00    08:00     21:00  \n",
       "3        21:00    08:00     21:00    08:00     21:00  \n",
       "4        21:00    06:00     21:00    06:00     20:00  \n",
       "...        ...      ...       ...      ...       ...  \n",
       "3789     20:00    08:00     20:00    10:30     20:00  \n",
       "3790     19:30    08:00     19:30    08:00     19:30  \n",
       "3791     19:00    10:00     19:00   Closed    Closed  \n",
       "3792     20:00    09:30     20:00   Closed    Closed  \n",
       "3793     20:00    09:00     20:00    12:00     18:00  \n",
       "\n",
       "[3794 rows x 12 columns]"
      ]
     },
     "execution_count": 18,
     "metadata": {},
     "output_type": "execute_result"
    }
   ],
   "source": [
    "startbucks3.iloc[:,15:]"
   ]
  },
  {
   "cell_type": "code",
   "execution_count": 10,
   "metadata": {},
   "outputs": [],
   "source": [
    "for n in day_list:\n",
    "    openname = f'{n}_open'\n",
    "    closename = f'{n}_close'\n",
    "    startbucks3.loc[startbucks3[openname]=='Closed', closename] = 'Closed'\n",
    "    startbucks3['time']=startbucks3[openname].str.extract(r'(\\d{1,2}:\\d{2}\\s.M)')\n",
    "    startbucks3.loc[startbucks3[openname].str.contains('M', regex=True)==True, openname] = pd.to_datetime(startbucks3['time']).dt.strftime('%H:%M')\n",
    "    startbucks3['time']=startbucks3[closename].str.extract(r'(\\d{1,2}:\\d{2}\\s.M)')\n",
    "    startbucks3.loc[startbucks3[closename].str.contains('M', regex=True)==True, closename] = pd.to_datetime(startbucks3['time']).dt.strftime('%H:%M')\n"
   ]
  },
  {
   "cell_type": "code",
   "execution_count": 11,
   "metadata": {},
   "outputs": [],
   "source": [
    "startbucks3=startbucks3.drop(['time'],axis=1)"
   ]
  },
  {
   "cell_type": "code",
   "execution_count": 12,
   "metadata": {},
   "outputs": [
    {
     "data": {
      "text/plain": [
       "Index(['No.', 'storeNumber', 'countryCode', 'ownershipTypeCode', 'latitude',\n",
       "       'longitude', 'streetAddressLine1', 'streetAddressLine2',\n",
       "       'streetAddressLine3', 'city', 'countrySubdivisionCode', 'postalCode',\n",
       "       'windowsTimeZoneId', 'GMT', 'GMT_region', 'Mon_open', 'Mon_close',\n",
       "       'Tue_open', 'Tue_close', 'Wed_open', 'Wed_close', 'Thu_open',\n",
       "       'Thu_close', 'Fri_open', 'Fri_close', 'Sat_open', 'Sat_close',\n",
       "       'Sun_open', 'Sun_close'],\n",
       "      dtype='object')"
      ]
     },
     "execution_count": 12,
     "metadata": {},
     "output_type": "execute_result"
    }
   ],
   "source": [
    "startbucks3.columns"
   ]
  },
  {
   "cell_type": "code",
   "execution_count": 13,
   "metadata": {},
   "outputs": [],
   "source": [
    "address=startbucks3.columns.get_loc('streetAddressLine1')\n",
    "col_name=startbucks3.columns.tolist()\n",
    "col_name.insert(address,'address')\n",
    "startbucks3=startbucks3.reindex(columns=col_name)"
   ]
  },
  {
   "cell_type": "code",
   "execution_count": 14,
   "metadata": {},
   "outputs": [],
   "source": [
    "startbucks3.loc[startbucks3['streetAddressLine2']!='Null', 'address'] = startbucks3['streetAddressLine1'].str.cat(startbucks3['streetAddressLine2'],sep='|')\n",
    "startbucks3.loc[startbucks3['streetAddressLine2']=='Null', 'address'] = startbucks3['streetAddressLine1']\n",
    "startbucks3.loc[startbucks3['streetAddressLine3']!='Null', 'address'] = startbucks3['address'].str.cat(startbucks3['streetAddressLine3'],sep='|')"
   ]
  },
  {
   "cell_type": "code",
   "execution_count": 15,
   "metadata": {},
   "outputs": [],
   "source": [
    "startbucks3=startbucks3.drop(['streetAddressLine1', 'streetAddressLine2','streetAddressLine3'],axis=1)\n"
   ]
  },
  {
   "cell_type": "code",
   "execution_count": 16,
   "metadata": {},
   "outputs": [],
   "source": [
    "startbucks3 = startbucks3.fillna('Null')"
   ]
  },
  {
   "cell_type": "code",
   "execution_count": 19,
   "metadata": {},
   "outputs": [],
   "source": [
    "startbucks3.to_csv('startbucks_final_Phoebe2.csv', index=False)"
   ]
  }
 ],
 "metadata": {
  "interpreter": {
   "hash": "0cd2cf4136301d6f74ab16c6b6cea41fbd777c9be6eca6789f6ef58fc02fa711"
  },
  "kernelspec": {
   "display_name": "Python 3.9.6 64-bit",
   "language": "python",
   "name": "python3"
  },
  "language_info": {
   "codemirror_mode": {
    "name": "ipython",
    "version": 3
   },
   "file_extension": ".py",
   "mimetype": "text/x-python",
   "name": "python",
   "nbconvert_exporter": "python",
   "pygments_lexer": "ipython3",
   "version": "3.9.6"
  },
  "orig_nbformat": 4
 },
 "nbformat": 4,
 "nbformat_minor": 2
}
