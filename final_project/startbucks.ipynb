{
 "cells": [
  {
   "cell_type": "code",
   "execution_count": 1,
   "metadata": {},
   "outputs": [],
   "source": [
    "import pandas as pd\n",
    "import numpy as np\n",
    "import re"
   ]
  },
  {
   "cell_type": "code",
   "execution_count": 2,
   "metadata": {},
   "outputs": [],
   "source": [
    "startbucks = pd.read_csv(\"startbucks_Phoebe.csv\")"
   ]
  },
  {
   "cell_type": "code",
   "execution_count": 3,
   "metadata": {},
   "outputs": [],
   "source": [
    "startbucks2=startbucks.drop(['Unnamed: 25','Unnamed: 17'],axis=1)"
   ]
  },
  {
   "cell_type": "code",
   "execution_count": 4,
   "metadata": {},
   "outputs": [],
   "source": [
    "startbucks2.rename(columns={'Unnamed: 20': 'd3', 'Unnamed: 21': 'd4','Unnamed: 22': 'd5','Unnamed: 23': 'd6','Unnamed: 24': 'd7' }, inplace=True)"
   ]
  },
  {
   "cell_type": "code",
   "execution_count": 5,
   "metadata": {},
   "outputs": [],
   "source": [
    "day_list=['Monday','Tuesday', 'Wednesday','Thursday','Friday','Saturday','Sunday']"
   ]
  },
  {
   "cell_type": "code",
   "execution_count": 6,
   "metadata": {},
   "outputs": [],
   "source": [
    "d_number_list=['d3','d4','d5','d6','d7']"
   ]
  },
  {
   "cell_type": "code",
   "execution_count": 7,
   "metadata": {},
   "outputs": [],
   "source": [
    "for x in d_number_list:\n",
    "    startbucks2['time']=startbucks2[x].str.extract(r'(\\d{1,2}.{10,20}M|Closed)')\n",
    "    for n in day_list:\n",
    "        startbucks2['day_record']=startbucks2[x].str.contains(n, regex=True)\n",
    "        startbucks2.loc[startbucks2['day_record']==True, n]=startbucks2['time']"
   ]
  },
  {
   "cell_type": "code",
   "execution_count": 8,
   "metadata": {},
   "outputs": [],
   "source": [
    "for n in range(len(day_list)):\n",
    "    startbucks2['time']=startbucks2['Today'].str.extract(r'(\\d{1,2}.{10,20}M|Closed)')\n",
    "    if n>len(day_list)-2:\n",
    "        startbucks2.loc[(startbucks2[day_list[n]].isna()==True) & (startbucks2[day_list[0]].isna()==True), day_list[n]] = startbucks2['time']\n",
    "    else:\n",
    "        startbucks2.loc[(startbucks2[day_list[n]].isna()==True) & (startbucks2[day_list[n+1]].isna()==True), day_list[n]] = startbucks2['time']\n",
    "for n in range(len(day_list)):\n",
    "    startbucks2['time']=startbucks2['Tomorrow'].str.extract(r'(\\d{1,2}.{10,20}M|Closed)')\n",
    "    startbucks2.loc[startbucks2[day_list[n]].isna()==True, day_list[n]] = startbucks2['time']"
   ]
  },
  {
   "cell_type": "code",
   "execution_count": 9,
   "metadata": {},
   "outputs": [
    {
     "data": {
      "text/plain": [
       "Index(['No.', 'storeNumber', 'countryCode', 'ownershipTypeCode', 'schedule',\n",
       "       'slug', 'latitude', 'longitude', 'streetAddressLine1',\n",
       "       'streetAddressLine2', 'streetAddressLine3', 'city',\n",
       "       'countrySubdivisionCode', 'postalCode', 'currentTimeOffset',\n",
       "       'windowsTimeZoneId', 'olsonTimeZoneId', 'Today', 'Tomorrow', 'd3', 'd4',\n",
       "       'd5', 'd6', 'd7', 'time', 'day_record', 'Monday', 'Tuesday',\n",
       "       'Wednesday', 'Thursday', 'Friday', 'Saturday', 'Sunday'],\n",
       "      dtype='object')"
      ]
     },
     "execution_count": 9,
     "metadata": {},
     "output_type": "execute_result"
    }
   ],
   "source": [
    "startbucks2.columns"
   ]
  },
  {
   "cell_type": "code",
   "execution_count": 10,
   "metadata": {},
   "outputs": [],
   "source": [
    "startbucks2=startbucks2.drop(['Today', 'Tomorrow', 'd3', 'd4','d5', 'd6', 'd7', 'time', 'day_record'],axis=1)"
   ]
  },
  {
   "cell_type": "code",
   "execution_count": 11,
   "metadata": {},
   "outputs": [],
   "source": [
    "startbucks2.rename(columns={'Sunday':'Sun', 'Monday':'Mon', 'Tuesday':'Tue','Wednesday':'Wed', 'Thursday':'Thu', 'Friday':'Fri', 'Saturday':'Sat'}, inplace=True)\n"
   ]
  },
  {
   "cell_type": "code",
   "execution_count": 12,
   "metadata": {},
   "outputs": [
    {
     "data": {
      "text/html": [
       "<div>\n",
       "<style scoped>\n",
       "    .dataframe tbody tr th:only-of-type {\n",
       "        vertical-align: middle;\n",
       "    }\n",
       "\n",
       "    .dataframe tbody tr th {\n",
       "        vertical-align: top;\n",
       "    }\n",
       "\n",
       "    .dataframe thead th {\n",
       "        text-align: right;\n",
       "    }\n",
       "</style>\n",
       "<table border=\"1\" class=\"dataframe\">\n",
       "  <thead>\n",
       "    <tr style=\"text-align: right;\">\n",
       "      <th></th>\n",
       "      <th>No.</th>\n",
       "      <th>storeNumber</th>\n",
       "      <th>countryCode</th>\n",
       "      <th>ownershipTypeCode</th>\n",
       "      <th>schedule</th>\n",
       "      <th>slug</th>\n",
       "      <th>latitude</th>\n",
       "      <th>longitude</th>\n",
       "      <th>streetAddressLine1</th>\n",
       "      <th>streetAddressLine2</th>\n",
       "      <th>...</th>\n",
       "      <th>currentTimeOffset</th>\n",
       "      <th>windowsTimeZoneId</th>\n",
       "      <th>olsonTimeZoneId</th>\n",
       "      <th>Mon</th>\n",
       "      <th>Tue</th>\n",
       "      <th>Wed</th>\n",
       "      <th>Thu</th>\n",
       "      <th>Fri</th>\n",
       "      <th>Sat</th>\n",
       "      <th>Sun</th>\n",
       "    </tr>\n",
       "  </thead>\n",
       "  <tbody>\n",
       "    <tr>\n",
       "      <th>0</th>\n",
       "      <td>11239</td>\n",
       "      <td>20208-201324</td>\n",
       "      <td>US</td>\n",
       "      <td>LS</td>\n",
       "      <td>[{'dayName': 'Today', 'hours': '8:00 AM to 3:0...</td>\n",
       "      <td>university-of-michigan-ross-school-701-tappan-...</td>\n",
       "      <td>42.272958</td>\n",
       "      <td>-83.737583</td>\n",
       "      <td>701 Tappan Avenue</td>\n",
       "      <td>NaN</td>\n",
       "      <td>...</td>\n",
       "      <td>-240</td>\n",
       "      <td>Eastern Standard Time</td>\n",
       "      <td>GMT-05:00 America/Detroit</td>\n",
       "      <td>8:00 AM to 3:00 PM</td>\n",
       "      <td>8:00 AM to 3:00 PM</td>\n",
       "      <td>8:00 AM to 3:00 PM</td>\n",
       "      <td>8:00 AM to 3:00 PM</td>\n",
       "      <td>8:00 AM to 3:00 PM</td>\n",
       "      <td>8:00 AM to 3:00 PM</td>\n",
       "      <td>8:00 AM to 3:00 PM</td>\n",
       "    </tr>\n",
       "    <tr>\n",
       "      <th>1</th>\n",
       "      <td>11240</td>\n",
       "      <td>2482-27691</td>\n",
       "      <td>US</td>\n",
       "      <td>CO</td>\n",
       "      <td>[{'dayName': 'Today', 'hours': '5:30 AM to 10:...</td>\n",
       "      <td>s-university-church-1214-south-university-ave-...</td>\n",
       "      <td>42.274899</td>\n",
       "      <td>-83.734125</td>\n",
       "      <td>1214 South University Ave</td>\n",
       "      <td>NaN</td>\n",
       "      <td>...</td>\n",
       "      <td>-240</td>\n",
       "      <td>Eastern Standard Time</td>\n",
       "      <td>GMT-05:00 America/Detroit</td>\n",
       "      <td>5:30 AM to 10:00 PM</td>\n",
       "      <td>5:30 AM to 10:00 PM</td>\n",
       "      <td>5:30 AM to 10:00 PM</td>\n",
       "      <td>5:30 AM to 10:00 PM</td>\n",
       "      <td>5:30 AM to 10:00 PM</td>\n",
       "      <td>6:00 AM to 9:00 PM</td>\n",
       "      <td>6:00 AM to 9:00 PM</td>\n",
       "    </tr>\n",
       "    <tr>\n",
       "      <th>2</th>\n",
       "      <td>11241</td>\n",
       "      <td>76576-99389</td>\n",
       "      <td>US</td>\n",
       "      <td>LS</td>\n",
       "      <td>[{'dayName': 'Today', 'hours': '8:00 AM to 9:0...</td>\n",
       "      <td>target-ann-arbor-t-634-2000-waters-rd-ann-arbo...</td>\n",
       "      <td>42.243722</td>\n",
       "      <td>-83.769394</td>\n",
       "      <td>2000 Waters Rd</td>\n",
       "      <td>NaN</td>\n",
       "      <td>...</td>\n",
       "      <td>-240</td>\n",
       "      <td>Eastern Standard Time</td>\n",
       "      <td>GMT-05:00 America/Detroit</td>\n",
       "      <td>8:00 AM to 9:00 PM</td>\n",
       "      <td>8:00 AM to 9:00 PM</td>\n",
       "      <td>8:00 AM to 9:00 PM</td>\n",
       "      <td>8:00 AM to 9:00 PM</td>\n",
       "      <td>8:00 AM to 9:00 PM</td>\n",
       "      <td>8:00 AM to 9:00 PM</td>\n",
       "      <td>8:00 AM to 9:00 PM</td>\n",
       "    </tr>\n",
       "    <tr>\n",
       "      <th>3</th>\n",
       "      <td>11242</td>\n",
       "      <td>19556-194345</td>\n",
       "      <td>US</td>\n",
       "      <td>LS</td>\n",
       "      <td>[{'dayName': 'Today', 'hours': '8:00 AM to 9:0...</td>\n",
       "      <td>target-novi-t-1465-27100-wixom-rd-novi-mi-4837...</td>\n",
       "      <td>42.488351</td>\n",
       "      <td>-83.535337</td>\n",
       "      <td>27100 Wixom Rd</td>\n",
       "      <td>NaN</td>\n",
       "      <td>...</td>\n",
       "      <td>-240</td>\n",
       "      <td>Eastern Standard Time</td>\n",
       "      <td>GMT-05:00 America/Detroit</td>\n",
       "      <td>8:00 AM to 9:00 PM</td>\n",
       "      <td>8:00 AM to 9:00 PM</td>\n",
       "      <td>8:00 AM to 9:00 PM</td>\n",
       "      <td>8:00 AM to 9:00 PM</td>\n",
       "      <td>8:00 AM to 9:00 PM</td>\n",
       "      <td>8:00 AM to 9:00 PM</td>\n",
       "      <td>8:00 AM to 9:00 PM</td>\n",
       "    </tr>\n",
       "    <tr>\n",
       "      <th>4</th>\n",
       "      <td>11243</td>\n",
       "      <td>23876-232124</td>\n",
       "      <td>US</td>\n",
       "      <td>CO</td>\n",
       "      <td>[{'dayName': 'Today', 'hours': '5:30 AM to 9:0...</td>\n",
       "      <td>ann-arbor-saline-lohr-3141-ann-arbor-saline-rd...</td>\n",
       "      <td>42.241399</td>\n",
       "      <td>-83.768042</td>\n",
       "      <td>3141 Ann Arbor-Saline Rd</td>\n",
       "      <td>NaN</td>\n",
       "      <td>...</td>\n",
       "      <td>-240</td>\n",
       "      <td>Eastern Standard Time</td>\n",
       "      <td>GMT-05:00 America/Detroit</td>\n",
       "      <td>5:30 AM to 9:00 PM</td>\n",
       "      <td>5:30 AM to 9:00 PM</td>\n",
       "      <td>5:30 AM to 9:00 PM</td>\n",
       "      <td>5:30 AM to 9:00 PM</td>\n",
       "      <td>5:30 AM to 9:00 PM</td>\n",
       "      <td>6:00 AM to 9:00 PM</td>\n",
       "      <td>6:00 AM to 8:00 PM</td>\n",
       "    </tr>\n",
       "    <tr>\n",
       "      <th>...</th>\n",
       "      <td>...</td>\n",
       "      <td>...</td>\n",
       "      <td>...</td>\n",
       "      <td>...</td>\n",
       "      <td>...</td>\n",
       "      <td>...</td>\n",
       "      <td>...</td>\n",
       "      <td>...</td>\n",
       "      <td>...</td>\n",
       "      <td>...</td>\n",
       "      <td>...</td>\n",
       "      <td>...</td>\n",
       "      <td>...</td>\n",
       "      <td>...</td>\n",
       "      <td>...</td>\n",
       "      <td>...</td>\n",
       "      <td>...</td>\n",
       "      <td>...</td>\n",
       "      <td>...</td>\n",
       "      <td>...</td>\n",
       "      <td>...</td>\n",
       "    </tr>\n",
       "    <tr>\n",
       "      <th>3789</th>\n",
       "      <td>17762</td>\n",
       "      <td>53133-281940</td>\n",
       "      <td>DE</td>\n",
       "      <td>LS</td>\n",
       "      <td>[{'dayName': 'Today', 'hours': '8:00 AM to 8:0...</td>\n",
       "      <td>am-wasserturm-o-7-18-a-mannheim-bw-68161-de</td>\n",
       "      <td>49.484029</td>\n",
       "      <td>8.473624</td>\n",
       "      <td>O7 18 a</td>\n",
       "      <td>NaN</td>\n",
       "      <td>...</td>\n",
       "      <td>60</td>\n",
       "      <td>W. Europe Standard Time</td>\n",
       "      <td>GMT+00:00 Europe/Berlin</td>\n",
       "      <td>8:00 AM to 8:00 PM</td>\n",
       "      <td>8:00 AM to 8:00 PM</td>\n",
       "      <td>8:00 AM to 8:00 PM</td>\n",
       "      <td>8:00 AM to 8:00 PM</td>\n",
       "      <td>8:00 AM to 8:00 PM</td>\n",
       "      <td>8:00 AM to 8:00 PM</td>\n",
       "      <td>10:30 AM to 8:00 PM</td>\n",
       "    </tr>\n",
       "    <tr>\n",
       "      <th>3790</th>\n",
       "      <td>17763</td>\n",
       "      <td>53136-282095</td>\n",
       "      <td>DE</td>\n",
       "      <td>LS</td>\n",
       "      <td>[{'dayName': 'Today', 'hours': '10:30 AM to 6:...</td>\n",
       "      <td>hauptstrasse-137-hauptstrasse-137-heidelberg-b...</td>\n",
       "      <td>49.411818</td>\n",
       "      <td>8.706223</td>\n",
       "      <td>Hauptstrasse 137</td>\n",
       "      <td>NaN</td>\n",
       "      <td>...</td>\n",
       "      <td>60</td>\n",
       "      <td>W. Europe Standard Time</td>\n",
       "      <td>GMT+00:00 Europe/Berlin</td>\n",
       "      <td>10:30 AM to 6:00 PM</td>\n",
       "      <td>10:30 AM to 6:00 PM</td>\n",
       "      <td>10:30 AM to 6:00 PM</td>\n",
       "      <td>10:30 AM to 6:00 PM</td>\n",
       "      <td>8:00 AM to 7:30 PM</td>\n",
       "      <td>8:00 AM to 7:30 PM</td>\n",
       "      <td>8:00 AM to 7:30 PM</td>\n",
       "    </tr>\n",
       "    <tr>\n",
       "      <th>3791</th>\n",
       "      <td>17764</td>\n",
       "      <td>56379-290257</td>\n",
       "      <td>DE</td>\n",
       "      <td>LS</td>\n",
       "      <td>[{'dayName': 'Today', 'hours': '10:00 AM to 7:...</td>\n",
       "      <td>sof-heidelberg-hauptstr-9-13-heidelberg-bw-691...</td>\n",
       "      <td>49.410002</td>\n",
       "      <td>8.694501</td>\n",
       "      <td>Hauptstr. 9-13</td>\n",
       "      <td>NaN</td>\n",
       "      <td>...</td>\n",
       "      <td>60</td>\n",
       "      <td>W. Europe Standard Time</td>\n",
       "      <td>GMT+00:00 Europe/Berlin</td>\n",
       "      <td>10:00 AM to 7:00 PM</td>\n",
       "      <td>10:00 AM to 7:00 PM</td>\n",
       "      <td>10:00 AM to 7:00 PM</td>\n",
       "      <td>10:00 AM to 7:00 PM</td>\n",
       "      <td>10:00 AM to 7:00 PM</td>\n",
       "      <td>10:00 AM to 7:00 PM</td>\n",
       "      <td>Closed</td>\n",
       "    </tr>\n",
       "    <tr>\n",
       "      <th>3792</th>\n",
       "      <td>17765</td>\n",
       "      <td>58823-293084</td>\n",
       "      <td>DE</td>\n",
       "      <td>LS</td>\n",
       "      <td>[{'dayName': 'Today', 'hours': '9:30 AM to 6:0...</td>\n",
       "      <td>montabaur-fashion-outlet-am-fashion-outlet-72-...</td>\n",
       "      <td>50.443898</td>\n",
       "      <td>7.828393</td>\n",
       "      <td>Am Fashion Outlet 72</td>\n",
       "      <td>NaN</td>\n",
       "      <td>...</td>\n",
       "      <td>60</td>\n",
       "      <td>W. Europe Standard Time</td>\n",
       "      <td>GMT+00:00 Europe/Berlin</td>\n",
       "      <td>9:30 AM to 6:00 PM</td>\n",
       "      <td>9:30 AM to 6:00 PM</td>\n",
       "      <td>9:30 AM to 6:00 PM</td>\n",
       "      <td>9:30 AM to 6:00 PM</td>\n",
       "      <td>9:30 AM to 8:00 PM</td>\n",
       "      <td>9:30 AM to 8:00 PM</td>\n",
       "      <td>Closed</td>\n",
       "    </tr>\n",
       "    <tr>\n",
       "      <th>3793</th>\n",
       "      <td>17766</td>\n",
       "      <td>53119-282042</td>\n",
       "      <td>DE</td>\n",
       "      <td>LS</td>\n",
       "      <td>[{'dayName': 'Today', 'hours': '8:00 AM to 8:0...</td>\n",
       "      <td>forum-mittelrhein-goergenstrasse-koblenz-rp-56...</td>\n",
       "      <td>50.358221</td>\n",
       "      <td>7.596486</td>\n",
       "      <td>Goergenstrasse</td>\n",
       "      <td>NaN</td>\n",
       "      <td>...</td>\n",
       "      <td>60</td>\n",
       "      <td>W. Europe Standard Time</td>\n",
       "      <td>GMT+00:00 Europe/Berlin</td>\n",
       "      <td>8:00 AM to 8:00 PM</td>\n",
       "      <td>8:00 AM to 8:00 PM</td>\n",
       "      <td>8:00 AM to 8:00 PM</td>\n",
       "      <td>8:00 AM to 8:00 PM</td>\n",
       "      <td>8:00 AM to 8:00 PM</td>\n",
       "      <td>9:00 AM to 8:00 PM</td>\n",
       "      <td>12:00 PM to 6:00 PM</td>\n",
       "    </tr>\n",
       "  </tbody>\n",
       "</table>\n",
       "<p>3794 rows × 24 columns</p>\n",
       "</div>"
      ],
      "text/plain": [
       "        No.   storeNumber countryCode ownershipTypeCode  \\\n",
       "0     11239  20208-201324          US                LS   \n",
       "1     11240    2482-27691          US                CO   \n",
       "2     11241   76576-99389          US                LS   \n",
       "3     11242  19556-194345          US                LS   \n",
       "4     11243  23876-232124          US                CO   \n",
       "...     ...           ...         ...               ...   \n",
       "3789  17762  53133-281940          DE                LS   \n",
       "3790  17763  53136-282095          DE                LS   \n",
       "3791  17764  56379-290257          DE                LS   \n",
       "3792  17765  58823-293084          DE                LS   \n",
       "3793  17766  53119-282042          DE                LS   \n",
       "\n",
       "                                               schedule  \\\n",
       "0     [{'dayName': 'Today', 'hours': '8:00 AM to 3:0...   \n",
       "1     [{'dayName': 'Today', 'hours': '5:30 AM to 10:...   \n",
       "2     [{'dayName': 'Today', 'hours': '8:00 AM to 9:0...   \n",
       "3     [{'dayName': 'Today', 'hours': '8:00 AM to 9:0...   \n",
       "4     [{'dayName': 'Today', 'hours': '5:30 AM to 9:0...   \n",
       "...                                                 ...   \n",
       "3789  [{'dayName': 'Today', 'hours': '8:00 AM to 8:0...   \n",
       "3790  [{'dayName': 'Today', 'hours': '10:30 AM to 6:...   \n",
       "3791  [{'dayName': 'Today', 'hours': '10:00 AM to 7:...   \n",
       "3792  [{'dayName': 'Today', 'hours': '9:30 AM to 6:0...   \n",
       "3793  [{'dayName': 'Today', 'hours': '8:00 AM to 8:0...   \n",
       "\n",
       "                                                   slug   latitude  longitude  \\\n",
       "0     university-of-michigan-ross-school-701-tappan-...  42.272958 -83.737583   \n",
       "1     s-university-church-1214-south-university-ave-...  42.274899 -83.734125   \n",
       "2     target-ann-arbor-t-634-2000-waters-rd-ann-arbo...  42.243722 -83.769394   \n",
       "3     target-novi-t-1465-27100-wixom-rd-novi-mi-4837...  42.488351 -83.535337   \n",
       "4     ann-arbor-saline-lohr-3141-ann-arbor-saline-rd...  42.241399 -83.768042   \n",
       "...                                                 ...        ...        ...   \n",
       "3789        am-wasserturm-o-7-18-a-mannheim-bw-68161-de  49.484029   8.473624   \n",
       "3790  hauptstrasse-137-hauptstrasse-137-heidelberg-b...  49.411818   8.706223   \n",
       "3791  sof-heidelberg-hauptstr-9-13-heidelberg-bw-691...  49.410002   8.694501   \n",
       "3792  montabaur-fashion-outlet-am-fashion-outlet-72-...  50.443898   7.828393   \n",
       "3793  forum-mittelrhein-goergenstrasse-koblenz-rp-56...  50.358221   7.596486   \n",
       "\n",
       "             streetAddressLine1 streetAddressLine2  ... currentTimeOffset  \\\n",
       "0             701 Tappan Avenue                NaN  ...              -240   \n",
       "1     1214 South University Ave                NaN  ...              -240   \n",
       "2                2000 Waters Rd                NaN  ...              -240   \n",
       "3                27100 Wixom Rd                NaN  ...              -240   \n",
       "4      3141 Ann Arbor-Saline Rd                NaN  ...              -240   \n",
       "...                         ...                ...  ...               ...   \n",
       "3789                    O7 18 a                NaN  ...                60   \n",
       "3790           Hauptstrasse 137                NaN  ...                60   \n",
       "3791             Hauptstr. 9-13                NaN  ...                60   \n",
       "3792       Am Fashion Outlet 72                NaN  ...                60   \n",
       "3793             Goergenstrasse                NaN  ...                60   \n",
       "\n",
       "            windowsTimeZoneId            olsonTimeZoneId                  Mon  \\\n",
       "0       Eastern Standard Time  GMT-05:00 America/Detroit   8:00 AM to 3:00 PM   \n",
       "1       Eastern Standard Time  GMT-05:00 America/Detroit  5:30 AM to 10:00 PM   \n",
       "2       Eastern Standard Time  GMT-05:00 America/Detroit   8:00 AM to 9:00 PM   \n",
       "3       Eastern Standard Time  GMT-05:00 America/Detroit   8:00 AM to 9:00 PM   \n",
       "4       Eastern Standard Time  GMT-05:00 America/Detroit   5:30 AM to 9:00 PM   \n",
       "...                       ...                        ...                  ...   \n",
       "3789  W. Europe Standard Time    GMT+00:00 Europe/Berlin   8:00 AM to 8:00 PM   \n",
       "3790  W. Europe Standard Time    GMT+00:00 Europe/Berlin  10:30 AM to 6:00 PM   \n",
       "3791  W. Europe Standard Time    GMT+00:00 Europe/Berlin  10:00 AM to 7:00 PM   \n",
       "3792  W. Europe Standard Time    GMT+00:00 Europe/Berlin   9:30 AM to 6:00 PM   \n",
       "3793  W. Europe Standard Time    GMT+00:00 Europe/Berlin   8:00 AM to 8:00 PM   \n",
       "\n",
       "                      Tue                  Wed                  Thu  \\\n",
       "0      8:00 AM to 3:00 PM   8:00 AM to 3:00 PM   8:00 AM to 3:00 PM   \n",
       "1     5:30 AM to 10:00 PM  5:30 AM to 10:00 PM  5:30 AM to 10:00 PM   \n",
       "2      8:00 AM to 9:00 PM   8:00 AM to 9:00 PM   8:00 AM to 9:00 PM   \n",
       "3      8:00 AM to 9:00 PM   8:00 AM to 9:00 PM   8:00 AM to 9:00 PM   \n",
       "4      5:30 AM to 9:00 PM   5:30 AM to 9:00 PM   5:30 AM to 9:00 PM   \n",
       "...                   ...                  ...                  ...   \n",
       "3789   8:00 AM to 8:00 PM   8:00 AM to 8:00 PM   8:00 AM to 8:00 PM   \n",
       "3790  10:30 AM to 6:00 PM  10:30 AM to 6:00 PM  10:30 AM to 6:00 PM   \n",
       "3791  10:00 AM to 7:00 PM  10:00 AM to 7:00 PM  10:00 AM to 7:00 PM   \n",
       "3792   9:30 AM to 6:00 PM   9:30 AM to 6:00 PM   9:30 AM to 6:00 PM   \n",
       "3793   8:00 AM to 8:00 PM   8:00 AM to 8:00 PM   8:00 AM to 8:00 PM   \n",
       "\n",
       "                      Fri                  Sat                  Sun  \n",
       "0      8:00 AM to 3:00 PM   8:00 AM to 3:00 PM   8:00 AM to 3:00 PM  \n",
       "1     5:30 AM to 10:00 PM   6:00 AM to 9:00 PM   6:00 AM to 9:00 PM  \n",
       "2      8:00 AM to 9:00 PM   8:00 AM to 9:00 PM   8:00 AM to 9:00 PM  \n",
       "3      8:00 AM to 9:00 PM   8:00 AM to 9:00 PM   8:00 AM to 9:00 PM  \n",
       "4      5:30 AM to 9:00 PM   6:00 AM to 9:00 PM   6:00 AM to 8:00 PM  \n",
       "...                   ...                  ...                  ...  \n",
       "3789   8:00 AM to 8:00 PM   8:00 AM to 8:00 PM  10:30 AM to 8:00 PM  \n",
       "3790   8:00 AM to 7:30 PM   8:00 AM to 7:30 PM   8:00 AM to 7:30 PM  \n",
       "3791  10:00 AM to 7:00 PM  10:00 AM to 7:00 PM               Closed  \n",
       "3792   9:30 AM to 8:00 PM   9:30 AM to 8:00 PM               Closed  \n",
       "3793   8:00 AM to 8:00 PM   9:00 AM to 8:00 PM  12:00 PM to 6:00 PM  \n",
       "\n",
       "[3794 rows x 24 columns]"
      ]
     },
     "execution_count": 12,
     "metadata": {},
     "output_type": "execute_result"
    }
   ],
   "source": [
    "startbucks2"
   ]
  },
  {
   "cell_type": "code",
   "execution_count": 13,
   "metadata": {},
   "outputs": [
    {
     "data": {
      "text/plain": [
       "16"
      ]
     },
     "execution_count": 13,
     "metadata": {},
     "output_type": "execute_result"
    }
   ],
   "source": [
    "startbucks2.columns.get_loc('olsonTimeZoneId')"
   ]
  },
  {
   "cell_type": "code",
   "execution_count": 14,
   "metadata": {},
   "outputs": [],
   "source": [
    "col_name=startbucks2.columns.tolist()\n",
    "col_name.insert(17,'GMT')\n",
    "col_name.insert(18,'GMT_city')\n",
    "startbucks2=startbucks2.reindex(columns=col_name)\n"
   ]
  },
  {
   "cell_type": "code",
   "execution_count": 15,
   "metadata": {},
   "outputs": [
    {
     "data": {
      "text/html": [
       "<div>\n",
       "<style scoped>\n",
       "    .dataframe tbody tr th:only-of-type {\n",
       "        vertical-align: middle;\n",
       "    }\n",
       "\n",
       "    .dataframe tbody tr th {\n",
       "        vertical-align: top;\n",
       "    }\n",
       "\n",
       "    .dataframe thead th {\n",
       "        text-align: right;\n",
       "    }\n",
       "</style>\n",
       "<table border=\"1\" class=\"dataframe\">\n",
       "  <thead>\n",
       "    <tr style=\"text-align: right;\">\n",
       "      <th></th>\n",
       "      <th>0</th>\n",
       "      <th>1</th>\n",
       "    </tr>\n",
       "  </thead>\n",
       "  <tbody>\n",
       "    <tr>\n",
       "      <th>0</th>\n",
       "      <td>GMT-05:00</td>\n",
       "      <td>America/Detroit</td>\n",
       "    </tr>\n",
       "    <tr>\n",
       "      <th>1</th>\n",
       "      <td>GMT-05:00</td>\n",
       "      <td>America/Detroit</td>\n",
       "    </tr>\n",
       "    <tr>\n",
       "      <th>2</th>\n",
       "      <td>GMT-05:00</td>\n",
       "      <td>America/Detroit</td>\n",
       "    </tr>\n",
       "    <tr>\n",
       "      <th>3</th>\n",
       "      <td>GMT-05:00</td>\n",
       "      <td>America/Detroit</td>\n",
       "    </tr>\n",
       "    <tr>\n",
       "      <th>4</th>\n",
       "      <td>GMT-05:00</td>\n",
       "      <td>America/Detroit</td>\n",
       "    </tr>\n",
       "    <tr>\n",
       "      <th>...</th>\n",
       "      <td>...</td>\n",
       "      <td>...</td>\n",
       "    </tr>\n",
       "    <tr>\n",
       "      <th>3789</th>\n",
       "      <td>GMT+00:00</td>\n",
       "      <td>Europe/Berlin</td>\n",
       "    </tr>\n",
       "    <tr>\n",
       "      <th>3790</th>\n",
       "      <td>GMT+00:00</td>\n",
       "      <td>Europe/Berlin</td>\n",
       "    </tr>\n",
       "    <tr>\n",
       "      <th>3791</th>\n",
       "      <td>GMT+00:00</td>\n",
       "      <td>Europe/Berlin</td>\n",
       "    </tr>\n",
       "    <tr>\n",
       "      <th>3792</th>\n",
       "      <td>GMT+00:00</td>\n",
       "      <td>Europe/Berlin</td>\n",
       "    </tr>\n",
       "    <tr>\n",
       "      <th>3793</th>\n",
       "      <td>GMT+00:00</td>\n",
       "      <td>Europe/Berlin</td>\n",
       "    </tr>\n",
       "  </tbody>\n",
       "</table>\n",
       "<p>3794 rows × 2 columns</p>\n",
       "</div>"
      ],
      "text/plain": [
       "              0                1\n",
       "0     GMT-05:00  America/Detroit\n",
       "1     GMT-05:00  America/Detroit\n",
       "2     GMT-05:00  America/Detroit\n",
       "3     GMT-05:00  America/Detroit\n",
       "4     GMT-05:00  America/Detroit\n",
       "...         ...              ...\n",
       "3789  GMT+00:00    Europe/Berlin\n",
       "3790  GMT+00:00    Europe/Berlin\n",
       "3791  GMT+00:00    Europe/Berlin\n",
       "3792  GMT+00:00    Europe/Berlin\n",
       "3793  GMT+00:00    Europe/Berlin\n",
       "\n",
       "[3794 rows x 2 columns]"
      ]
     },
     "execution_count": 15,
     "metadata": {},
     "output_type": "execute_result"
    }
   ],
   "source": [
    "gmt_split = startbucks2['olsonTimeZoneId'].str.split(' ', expand=True)\n",
    "gmt_split\n"
   ]
  },
  {
   "cell_type": "code",
   "execution_count": 16,
   "metadata": {},
   "outputs": [],
   "source": [
    "startbucks2['GMT']=gmt_split[0]"
   ]
  },
  {
   "cell_type": "code",
   "execution_count": 17,
   "metadata": {},
   "outputs": [],
   "source": [
    "startbucks2['GMT_city']=gmt_split[1]"
   ]
  },
  {
   "cell_type": "code",
   "execution_count": 18,
   "metadata": {},
   "outputs": [
    {
     "data": {
      "text/plain": [
       "No.                       3794\n",
       "storeNumber               3794\n",
       "countryCode               3794\n",
       "ownershipTypeCode         3794\n",
       "schedule                  3763\n",
       "slug                      3794\n",
       "latitude                  3794\n",
       "longitude                 3794\n",
       "streetAddressLine1        3794\n",
       "streetAddressLine2         540\n",
       "streetAddressLine3         316\n",
       "city                      3794\n",
       "countrySubdivisionCode    3794\n",
       "postalCode                3794\n",
       "currentTimeOffset         3794\n",
       "windowsTimeZoneId         3794\n",
       "olsonTimeZoneId           3794\n",
       "GMT                       3794\n",
       "GMT_city                  3794\n",
       "Mon                       3763\n",
       "Tue                       3763\n",
       "Wed                       3763\n",
       "Thu                       3763\n",
       "Fri                       3763\n",
       "Sat                       3763\n",
       "Sun                       3763\n",
       "dtype: int64"
      ]
     },
     "execution_count": 18,
     "metadata": {},
     "output_type": "execute_result"
    }
   ],
   "source": [
    "startbucks2.count()"
   ]
  },
  {
   "cell_type": "code",
   "execution_count": 19,
   "metadata": {},
   "outputs": [
    {
     "data": {
      "text/plain": [
       "0"
      ]
     },
     "execution_count": 19,
     "metadata": {},
     "output_type": "execute_result"
    }
   ],
   "source": [
    "len(startbucks2[(startbucks2.latitude > 90) | (startbucks2.latitude < -90)])"
   ]
  },
  {
   "cell_type": "code",
   "execution_count": 20,
   "metadata": {},
   "outputs": [
    {
     "data": {
      "text/plain": [
       "count    3794.000000\n",
       "mean       38.691510\n",
       "std         5.344120\n",
       "min        19.645873\n",
       "25%        34.290524\n",
       "50%        39.382238\n",
       "75%        41.968567\n",
       "max        64.854451\n",
       "Name: latitude, dtype: float64"
      ]
     },
     "execution_count": 20,
     "metadata": {},
     "output_type": "execute_result"
    }
   ],
   "source": [
    "startbucks2['latitude'].describe()"
   ]
  },
  {
   "cell_type": "code",
   "execution_count": 21,
   "metadata": {},
   "outputs": [
    {
     "data": {
      "text/plain": [
       "0"
      ]
     },
     "execution_count": 21,
     "metadata": {},
     "output_type": "execute_result"
    }
   ],
   "source": [
    "len(startbucks2[(startbucks2.longitude > 180) | (startbucks2.longitude < -180)])"
   ]
  },
  {
   "cell_type": "code",
   "execution_count": 22,
   "metadata": {},
   "outputs": [],
   "source": [
    "startbucks2['city']=startbucks2['city'].str.title()"
   ]
  },
  {
   "cell_type": "code",
   "execution_count": 24,
   "metadata": {},
   "outputs": [],
   "source": [
    "startbucks2['countryCode']=startbucks2['countryCode'].str.upper()"
   ]
  },
  {
   "cell_type": "code",
   "execution_count": 26,
   "metadata": {},
   "outputs": [],
   "source": [
    "startbucks2['countrySubdivisionCode']=startbucks2['countrySubdivisionCode'].str.upper()"
   ]
  },
  {
   "cell_type": "code",
   "execution_count": 25,
   "metadata": {},
   "outputs": [
    {
     "data": {
      "text/plain": [
       "0       US\n",
       "1       US\n",
       "2       US\n",
       "3       US\n",
       "4       US\n",
       "        ..\n",
       "3789    DE\n",
       "3790    DE\n",
       "3791    DE\n",
       "3792    DE\n",
       "3793    DE\n",
       "Name: countryCode, Length: 3794, dtype: object"
      ]
     },
     "execution_count": 25,
     "metadata": {},
     "output_type": "execute_result"
    }
   ],
   "source": [
    "startbucks2['countryCode']"
   ]
  },
  {
   "cell_type": "code",
   "execution_count": 29,
   "metadata": {},
   "outputs": [
    {
     "data": {
      "text/plain": [
       "No.                       0\n",
       "storeNumber               0\n",
       "countryCode               0\n",
       "ownershipTypeCode         0\n",
       "schedule                  0\n",
       "slug                      0\n",
       "latitude                  0\n",
       "longitude                 0\n",
       "streetAddressLine1        0\n",
       "streetAddressLine2        0\n",
       "streetAddressLine3        0\n",
       "city                      0\n",
       "countrySubdivisionCode    0\n",
       "postalCode                0\n",
       "currentTimeOffset         0\n",
       "windowsTimeZoneId         0\n",
       "olsonTimeZoneId           0\n",
       "GMT                       0\n",
       "GMT_city                  0\n",
       "Mon                       0\n",
       "Tue                       0\n",
       "Wed                       0\n",
       "Thu                       0\n",
       "Fri                       0\n",
       "Sat                       0\n",
       "Sun                       0\n",
       "dtype: int64"
      ]
     },
     "execution_count": 29,
     "metadata": {},
     "output_type": "execute_result"
    }
   ],
   "source": [
    "startbucks2.isnull().sum()"
   ]
  },
  {
   "cell_type": "code",
   "execution_count": 28,
   "metadata": {},
   "outputs": [],
   "source": [
    "startbucks2 = startbucks2.fillna('Null')"
   ]
  },
  {
   "cell_type": "code",
   "execution_count": 30,
   "metadata": {},
   "outputs": [],
   "source": [
    "startbucks2.to_csv('startbucks_final_Phoebe.csv', index=False)"
   ]
  }
 ],
 "metadata": {
  "interpreter": {
   "hash": "0cd2cf4136301d6f74ab16c6b6cea41fbd777c9be6eca6789f6ef58fc02fa711"
  },
  "kernelspec": {
   "display_name": "Python 3.9.6 64-bit",
   "language": "python",
   "name": "python3"
  },
  "language_info": {
   "codemirror_mode": {
    "name": "ipython",
    "version": 3
   },
   "file_extension": ".py",
   "mimetype": "text/x-python",
   "name": "python",
   "nbconvert_exporter": "python",
   "pygments_lexer": "ipython3",
   "version": "3.9.6"
  },
  "orig_nbformat": 4
 },
 "nbformat": 4,
 "nbformat_minor": 2
}
