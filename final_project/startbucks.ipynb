{
 "cells": [
  {
   "cell_type": "code",
   "execution_count": 1,
   "metadata": {},
   "outputs": [],
   "source": [
    "import pandas as pd\n",
    "import numpy as np\n",
    "import re"
   ]
  },
  {
   "cell_type": "code",
   "execution_count": 2,
   "metadata": {},
   "outputs": [],
   "source": [
    "startbucks = pd.read_csv(\"startbucks_Phoebe.csv\")"
   ]
  },
  {
   "cell_type": "code",
   "execution_count": 3,
   "metadata": {},
   "outputs": [],
   "source": [
    "startbucks2=startbucks.drop(['Unnamed: 25','Unnamed: 17'],axis=1)"
   ]
  },
  {
   "cell_type": "code",
   "execution_count": 4,
   "metadata": {},
   "outputs": [],
   "source": [
    "startbucks2.rename(columns={'Unnamed: 20': 'd3', 'Unnamed: 21': 'd4','Unnamed: 22': 'd5','Unnamed: 23': 'd6','Unnamed: 24': 'd7' }, inplace=True)"
   ]
  },
  {
   "cell_type": "code",
   "execution_count": 5,
   "metadata": {},
   "outputs": [],
   "source": [
    "day_list=['Monday','Tuesday', 'Wednesday','Thursday','Friday','Saturday','Sunday']"
   ]
  },
  {
   "cell_type": "code",
   "execution_count": 6,
   "metadata": {},
   "outputs": [],
   "source": [
    "d_number_list=['d3','d4','d5','d6','d7']"
   ]
  },
  {
   "cell_type": "code",
   "execution_count": 7,
   "metadata": {},
   "outputs": [],
   "source": [
    "for x in d_number_list:\n",
    "    startbucks2['time']=startbucks2[x].str.extract(r'(\\d{1,2}.{10,20}M|Closed)')\n",
    "    for n in day_list:\n",
    "        startbucks2['day_record']=startbucks2[x].str.contains(n, regex=True)\n",
    "        startbucks2.loc[startbucks2['day_record']==True, n]=startbucks2['time']"
   ]
  },
  {
   "cell_type": "code",
   "execution_count": 8,
   "metadata": {},
   "outputs": [],
   "source": [
    "for n in range(len(day_list)):\n",
    "    startbucks2['time']=startbucks2['Today'].str.extract(r'(\\d{1,2}.{10,20}M|Closed)')\n",
    "    if n>len(day_list)-2:\n",
    "        startbucks2.loc[(startbucks2[day_list[n]].isna()==True) & (startbucks2[day_list[0]].isna()==True), day_list[n]] = startbucks2['time']\n",
    "    else:\n",
    "        startbucks2.loc[(startbucks2[day_list[n]].isna()==True) & (startbucks2[day_list[n+1]].isna()==True), day_list[n]] = startbucks2['time']\n",
    "for n in range(len(day_list)):\n",
    "    startbucks2['time']=startbucks2['Tomorrow'].str.extract(r'(\\d{1,2}.{10,20}M|Closed)')\n",
    "    startbucks2.loc[startbucks2[day_list[n]].isna()==True, day_list[n]] = startbucks2['time']"
   ]
  },
  {
   "cell_type": "code",
   "execution_count": 9,
   "metadata": {},
   "outputs": [
    {
     "data": {
      "text/plain": [
       "Index(['No.', 'storeNumber', 'countryCode', 'ownershipTypeCode', 'schedule',\n",
       "       'slug', 'latitude', 'longitude', 'streetAddressLine1',\n",
       "       'streetAddressLine2', 'streetAddressLine3', 'city',\n",
       "       'countrySubdivisionCode', 'postalCode', 'currentTimeOffset',\n",
       "       'windowsTimeZoneId', 'olsonTimeZoneId', 'Today', 'Tomorrow', 'd3', 'd4',\n",
       "       'd5', 'd6', 'd7', 'time', 'day_record', 'Monday', 'Tuesday',\n",
       "       'Wednesday', 'Thursday', 'Friday', 'Saturday', 'Sunday'],\n",
       "      dtype='object')"
      ]
     },
     "execution_count": 9,
     "metadata": {},
     "output_type": "execute_result"
    }
   ],
   "source": [
    "startbucks2.columns"
   ]
  },
  {
   "cell_type": "code",
   "execution_count": 10,
   "metadata": {},
   "outputs": [],
   "source": [
    "startbucks2=startbucks2.drop(['Today', 'Tomorrow', 'd3', 'd4','d5', 'd6', 'd7', 'time', 'day_record'],axis=1)"
   ]
  },
  {
   "cell_type": "code",
   "execution_count": 11,
   "metadata": {},
   "outputs": [],
   "source": [
    "startbucks2.rename(columns={'Sunday':'Sun', 'Monday':'Mon', 'Tuesday':'Tue','Wednesday':'Wed', 'Thursday':'Thu', 'Friday':'Fri', 'Saturday':'Sat'}, inplace=True)\n"
   ]
  },
  {
   "cell_type": "code",
   "execution_count": 12,
   "metadata": {},
   "outputs": [],
   "source": [
    "olindex=startbucks2.columns.get_loc('olsonTimeZoneId')"
   ]
  },
  {
   "cell_type": "code",
   "execution_count": 13,
   "metadata": {},
   "outputs": [],
   "source": [
    "col_name=startbucks2.columns.tolist()\n",
    "col_name.insert(olindex+1,'GMT')\n",
    "col_name.insert(olindex+2,'GMT_city')\n",
    "startbucks2=startbucks2.reindex(columns=col_name)"
   ]
  },
  {
   "cell_type": "code",
   "execution_count": 14,
   "metadata": {},
   "outputs": [],
   "source": [
    "gmt_split = startbucks2['olsonTimeZoneId'].str.split(' ', expand=True)"
   ]
  },
  {
   "cell_type": "code",
   "execution_count": 15,
   "metadata": {},
   "outputs": [],
   "source": [
    "startbucks2['GMT']=gmt_split[0]"
   ]
  },
  {
   "cell_type": "code",
   "execution_count": 16,
   "metadata": {},
   "outputs": [],
   "source": [
    "startbucks2['GMT_city']=gmt_split[1]"
   ]
  },
  {
   "cell_type": "code",
   "execution_count": 17,
   "metadata": {},
   "outputs": [
    {
     "data": {
      "text/plain": [
       "No.                       3794\n",
       "storeNumber               3794\n",
       "countryCode               3794\n",
       "ownershipTypeCode         3794\n",
       "schedule                  3763\n",
       "slug                      3794\n",
       "latitude                  3794\n",
       "longitude                 3794\n",
       "streetAddressLine1        3794\n",
       "streetAddressLine2         540\n",
       "streetAddressLine3         316\n",
       "city                      3794\n",
       "countrySubdivisionCode    3794\n",
       "postalCode                3794\n",
       "currentTimeOffset         3794\n",
       "windowsTimeZoneId         3794\n",
       "olsonTimeZoneId           3794\n",
       "GMT                       3794\n",
       "GMT_city                  3794\n",
       "Mon                       3763\n",
       "Tue                       3763\n",
       "Wed                       3763\n",
       "Thu                       3763\n",
       "Fri                       3763\n",
       "Sat                       3763\n",
       "Sun                       3763\n",
       "dtype: int64"
      ]
     },
     "execution_count": 17,
     "metadata": {},
     "output_type": "execute_result"
    }
   ],
   "source": [
    "startbucks2.count()"
   ]
  },
  {
   "cell_type": "code",
   "execution_count": 18,
   "metadata": {},
   "outputs": [
    {
     "data": {
      "text/plain": [
       "0"
      ]
     },
     "execution_count": 18,
     "metadata": {},
     "output_type": "execute_result"
    }
   ],
   "source": [
    "len(startbucks2[(startbucks2.latitude > 90) | (startbucks2.latitude < -90)])"
   ]
  },
  {
   "cell_type": "code",
   "execution_count": 19,
   "metadata": {},
   "outputs": [
    {
     "data": {
      "text/plain": [
       "count    3794.000000\n",
       "mean       38.691510\n",
       "std         5.344120\n",
       "min        19.645873\n",
       "25%        34.290524\n",
       "50%        39.382238\n",
       "75%        41.968567\n",
       "max        64.854451\n",
       "Name: latitude, dtype: float64"
      ]
     },
     "execution_count": 19,
     "metadata": {},
     "output_type": "execute_result"
    }
   ],
   "source": [
    "startbucks2['latitude'].describe()"
   ]
  },
  {
   "cell_type": "code",
   "execution_count": 20,
   "metadata": {},
   "outputs": [
    {
     "data": {
      "text/plain": [
       "0"
      ]
     },
     "execution_count": 20,
     "metadata": {},
     "output_type": "execute_result"
    }
   ],
   "source": [
    "len(startbucks2[(startbucks2.longitude > 180) | (startbucks2.longitude < -180)])"
   ]
  },
  {
   "cell_type": "code",
   "execution_count": 21,
   "metadata": {},
   "outputs": [],
   "source": [
    "startbucks2['city']=startbucks2['city'].str.title()"
   ]
  },
  {
   "cell_type": "code",
   "execution_count": 22,
   "metadata": {},
   "outputs": [],
   "source": [
    "startbucks2['countryCode']=startbucks2['countryCode'].str.upper()"
   ]
  },
  {
   "cell_type": "code",
   "execution_count": 23,
   "metadata": {},
   "outputs": [],
   "source": [
    "startbucks2['countrySubdivisionCode']=startbucks2['countrySubdivisionCode'].str.upper()"
   ]
  },
  {
   "cell_type": "code",
   "execution_count": 24,
   "metadata": {},
   "outputs": [
    {
     "data": {
      "text/plain": [
       "No.                          0\n",
       "storeNumber                  0\n",
       "countryCode                  0\n",
       "ownershipTypeCode            0\n",
       "schedule                    31\n",
       "slug                         0\n",
       "latitude                     0\n",
       "longitude                    0\n",
       "streetAddressLine1           0\n",
       "streetAddressLine2        3254\n",
       "streetAddressLine3        3478\n",
       "city                         0\n",
       "countrySubdivisionCode       0\n",
       "postalCode                   0\n",
       "currentTimeOffset            0\n",
       "windowsTimeZoneId            0\n",
       "olsonTimeZoneId              0\n",
       "GMT                          0\n",
       "GMT_city                     0\n",
       "Mon                         31\n",
       "Tue                         31\n",
       "Wed                         31\n",
       "Thu                         31\n",
       "Fri                         31\n",
       "Sat                         31\n",
       "Sun                         31\n",
       "dtype: int64"
      ]
     },
     "execution_count": 24,
     "metadata": {},
     "output_type": "execute_result"
    }
   ],
   "source": [
    "startbucks2.isnull().sum()"
   ]
  },
  {
   "cell_type": "code",
   "execution_count": 25,
   "metadata": {},
   "outputs": [],
   "source": [
    "startbucks2 = startbucks2.fillna('Null')"
   ]
  },
  {
   "cell_type": "code",
   "execution_count": 28,
   "metadata": {},
   "outputs": [],
   "source": [
    "startbucks2.to_csv('startbucks_final_Phoebe.csv', index=False)"
   ]
  }
 ],
 "metadata": {
  "interpreter": {
   "hash": "0cd2cf4136301d6f74ab16c6b6cea41fbd777c9be6eca6789f6ef58fc02fa711"
  },
  "kernelspec": {
   "display_name": "Python 3.9.6 64-bit",
   "language": "python",
   "name": "python3"
  },
  "language_info": {
   "codemirror_mode": {
    "name": "ipython",
    "version": 3
   },
   "file_extension": ".py",
   "mimetype": "text/x-python",
   "name": "python",
   "nbconvert_exporter": "python",
   "pygments_lexer": "ipython3",
   "version": "3.9.6"
  },
  "orig_nbformat": 4
 },
 "nbformat": 4,
 "nbformat_minor": 2
}
